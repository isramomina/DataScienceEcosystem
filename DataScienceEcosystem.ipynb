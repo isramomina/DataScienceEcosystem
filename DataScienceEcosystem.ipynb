{
 "cells": [
  {
   "cell_type": "markdown",
   "id": "2f1e415b-51ca-46bc-b1a1-2ec4d1a46e78",
   "metadata": {},
   "source": [
    "# Data Science Tools and Ecosystem"
   ]
  },
  {
   "cell_type": "markdown",
   "id": "27e0e76b-4275-4802-b367-15a16f3cb32a",
   "metadata": {},
   "source": [
    "### In this notebook, Data Science Tools and Ecosystem are summarized."
   ]
  },
  {
   "cell_type": "markdown",
   "id": "6a8b928e-60b9-4328-bff9-4a1037bfa74b",
   "metadata": {},
   "source": [
    "**Objectives:**\n",
    "- List popular languages for data science\n",
    "- List commonly used libraries by data scientists\n",
    "- Examples of evaluating arithmetic expressions\n",
    "- Example to convert minutes to hours\n",
    "\n"
   ]
  },
  {
   "cell_type": "markdown",
   "id": "c340e8b4-687e-4103-a641-76a99ddfd226",
   "metadata": {},
   "source": [
    "Some of the popular languages that Data Scientists use are:\n",
    "1. Python\n",
    "2. R\n",
    "3. SQL"
   ]
  },
  {
   "cell_type": "markdown",
   "id": "cbedf974-898e-44cc-91ac-774281c374ae",
   "metadata": {},
   "source": [
    "Some of the commonly used libraries used by Data Scientists include:\n",
    "1. Matplotlib\n",
    "2. NumPy\n",
    "3. Pandas\n",
    "4. TensorFlow"
   ]
  },
  {
   "cell_type": "markdown",
   "id": "35027ea7-a680-47a3-83ae-f4c86de46641",
   "metadata": {},
   "source": [
    "|Data Science Tools|\n",
    "|------------------|\n",
    "|Apache Spark|\n",
    "|TensorFlow|\n",
    "|Scikit-learn|"
   ]
  },
  {
   "cell_type": "markdown",
   "id": "0da0e9c6-bb11-4e46-849c-01f1b296d559",
   "metadata": {},
   "source": [
    "### Below are a few examples of evaluating arithmetic expressions in Python\n"
   ]
  },
  {
   "cell_type": "code",
   "execution_count": 8,
   "id": "51c2de06-b544-42db-a9da-9754e9b00cd5",
   "metadata": {
    "tags": []
   },
   "outputs": [
    {
     "data": {
      "text/plain": [
       "17"
      ]
     },
     "execution_count": 8,
     "metadata": {},
     "output_type": "execute_result"
    }
   ],
   "source": [
    "#This is a simple arithmetic expression to multiply then add integers\n",
    "(3*4)+5"
   ]
  },
  {
   "cell_type": "code",
   "execution_count": 9,
   "id": "2593106c-e102-4d06-8940-d420dbc2046d",
   "metadata": {
    "tags": []
   },
   "outputs": [
    {
     "data": {
      "text/plain": [
       "3.3333333333333335"
      ]
     },
     "execution_count": 9,
     "metadata": {},
     "output_type": "execute_result"
    }
   ],
   "source": [
    "#This will convert 200 minutes to hours by diving by 60\n",
    "200/60"
   ]
  },
  {
   "cell_type": "markdown",
   "id": "87423f45-8e61-4b20-ab36-5264a5ed59b0",
   "metadata": {},
   "source": [
    "## Author\n",
    "Isra"
   ]
  },
  {
   "cell_type": "code",
   "execution_count": null,
   "id": "db6902b1-7161-491c-912c-c1f575983745",
   "metadata": {},
   "outputs": [],
   "source": []
  }
 ],
 "metadata": {
  "kernelspec": {
   "display_name": "Python",
   "language": "python",
   "name": "conda-env-python-py"
  },
  "language_info": {
   "codemirror_mode": {
    "name": "ipython",
    "version": 3
   },
   "file_extension": ".py",
   "mimetype": "text/x-python",
   "name": "python",
   "nbconvert_exporter": "python",
   "pygments_lexer": "ipython3",
   "version": "3.7.12"
  }
 },
 "nbformat": 4,
 "nbformat_minor": 5
}
